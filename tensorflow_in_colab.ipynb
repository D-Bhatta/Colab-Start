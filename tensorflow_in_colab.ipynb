{
  "nbformat": 4,
  "nbformat_minor": 0,
  "metadata": {
    "colab": {
      "name": "tensorflow_in_colab.ipynb",
      "provenance": [],
      "collapsed_sections": [],
      "authorship_tag": "ABX9TyPfq7igzIVIZWuuCjK5Lpek",
      "include_colab_link": true
    },
    "kernelspec": {
      "name": "python3",
      "display_name": "Python 3"
    },
    "accelerator": "GPU"
  },
  "cells": [
    {
      "cell_type": "markdown",
      "metadata": {
        "id": "view-in-github",
        "colab_type": "text"
      },
      "source": [
        "<a href=\"https://colab.research.google.com/github/D-Bhatta/Colab-Start/blob/tendorflow-in-colab/tensorflow_in_colab.ipynb\" target=\"_parent\"><img src=\"https://colab.research.google.com/assets/colab-badge.svg\" alt=\"Open In Colab\"/></a>"
      ]
    },
    {
      "cell_type": "code",
      "metadata": {
        "id": "ekJ4fMGsNZdQ",
        "colab_type": "code",
        "colab": {
          "base_uri": "https://localhost:8080/",
          "height": 666
        },
        "outputId": "221b3cb1-f698-46a3-a564-1fb00485d9f9"
      },
      "source": [
        "!pip install tensorflow"
      ],
      "execution_count": 1,
      "outputs": [
        {
          "output_type": "stream",
          "text": [
            "Requirement already satisfied: tensorflow in /usr/local/lib/python3.6/dist-packages (2.2.0)\n",
            "Requirement already satisfied: grpcio>=1.8.6 in /usr/local/lib/python3.6/dist-packages (from tensorflow) (1.29.0)\n",
            "Requirement already satisfied: gast==0.3.3 in /usr/local/lib/python3.6/dist-packages (from tensorflow) (0.3.3)\n",
            "Requirement already satisfied: six>=1.12.0 in /usr/local/lib/python3.6/dist-packages (from tensorflow) (1.12.0)\n",
            "Requirement already satisfied: opt-einsum>=2.3.2 in /usr/local/lib/python3.6/dist-packages (from tensorflow) (3.2.1)\n",
            "Requirement already satisfied: termcolor>=1.1.0 in /usr/local/lib/python3.6/dist-packages (from tensorflow) (1.1.0)\n",
            "Requirement already satisfied: wheel>=0.26; python_version >= \"3\" in /usr/local/lib/python3.6/dist-packages (from tensorflow) (0.34.2)\n",
            "Requirement already satisfied: wrapt>=1.11.1 in /usr/local/lib/python3.6/dist-packages (from tensorflow) (1.12.1)\n",
            "Requirement already satisfied: numpy<2.0,>=1.16.0 in /usr/local/lib/python3.6/dist-packages (from tensorflow) (1.18.4)\n",
            "Requirement already satisfied: h5py<2.11.0,>=2.10.0 in /usr/local/lib/python3.6/dist-packages (from tensorflow) (2.10.0)\n",
            "Requirement already satisfied: tensorboard<2.3.0,>=2.2.0 in /usr/local/lib/python3.6/dist-packages (from tensorflow) (2.2.2)\n",
            "Requirement already satisfied: keras-preprocessing>=1.1.0 in /usr/local/lib/python3.6/dist-packages (from tensorflow) (1.1.2)\n",
            "Requirement already satisfied: astunparse==1.6.3 in /usr/local/lib/python3.6/dist-packages (from tensorflow) (1.6.3)\n",
            "Requirement already satisfied: google-pasta>=0.1.8 in /usr/local/lib/python3.6/dist-packages (from tensorflow) (0.2.0)\n",
            "Requirement already satisfied: tensorflow-estimator<2.3.0,>=2.2.0 in /usr/local/lib/python3.6/dist-packages (from tensorflow) (2.2.0)\n",
            "Requirement already satisfied: scipy==1.4.1; python_version >= \"3\" in /usr/local/lib/python3.6/dist-packages (from tensorflow) (1.4.1)\n",
            "Requirement already satisfied: absl-py>=0.7.0 in /usr/local/lib/python3.6/dist-packages (from tensorflow) (0.9.0)\n",
            "Requirement already satisfied: protobuf>=3.8.0 in /usr/local/lib/python3.6/dist-packages (from tensorflow) (3.10.0)\n",
            "Requirement already satisfied: setuptools>=41.0.0 in /usr/local/lib/python3.6/dist-packages (from tensorboard<2.3.0,>=2.2.0->tensorflow) (47.1.1)\n",
            "Requirement already satisfied: google-auth-oauthlib<0.5,>=0.4.1 in /usr/local/lib/python3.6/dist-packages (from tensorboard<2.3.0,>=2.2.0->tensorflow) (0.4.1)\n",
            "Requirement already satisfied: markdown>=2.6.8 in /usr/local/lib/python3.6/dist-packages (from tensorboard<2.3.0,>=2.2.0->tensorflow) (3.2.2)\n",
            "Requirement already satisfied: werkzeug>=0.11.15 in /usr/local/lib/python3.6/dist-packages (from tensorboard<2.3.0,>=2.2.0->tensorflow) (1.0.1)\n",
            "Requirement already satisfied: requests<3,>=2.21.0 in /usr/local/lib/python3.6/dist-packages (from tensorboard<2.3.0,>=2.2.0->tensorflow) (2.23.0)\n",
            "Requirement already satisfied: tensorboard-plugin-wit>=1.6.0 in /usr/local/lib/python3.6/dist-packages (from tensorboard<2.3.0,>=2.2.0->tensorflow) (1.6.0.post3)\n",
            "Requirement already satisfied: google-auth<2,>=1.6.3 in /usr/local/lib/python3.6/dist-packages (from tensorboard<2.3.0,>=2.2.0->tensorflow) (1.7.2)\n",
            "Requirement already satisfied: requests-oauthlib>=0.7.0 in /usr/local/lib/python3.6/dist-packages (from google-auth-oauthlib<0.5,>=0.4.1->tensorboard<2.3.0,>=2.2.0->tensorflow) (1.3.0)\n",
            "Requirement already satisfied: importlib-metadata; python_version < \"3.8\" in /usr/local/lib/python3.6/dist-packages (from markdown>=2.6.8->tensorboard<2.3.0,>=2.2.0->tensorflow) (1.6.0)\n",
            "Requirement already satisfied: idna<3,>=2.5 in /usr/local/lib/python3.6/dist-packages (from requests<3,>=2.21.0->tensorboard<2.3.0,>=2.2.0->tensorflow) (2.9)\n",
            "Requirement already satisfied: certifi>=2017.4.17 in /usr/local/lib/python3.6/dist-packages (from requests<3,>=2.21.0->tensorboard<2.3.0,>=2.2.0->tensorflow) (2020.4.5.1)\n",
            "Requirement already satisfied: urllib3!=1.25.0,!=1.25.1,<1.26,>=1.21.1 in /usr/local/lib/python3.6/dist-packages (from requests<3,>=2.21.0->tensorboard<2.3.0,>=2.2.0->tensorflow) (1.24.3)\n",
            "Requirement already satisfied: chardet<4,>=3.0.2 in /usr/local/lib/python3.6/dist-packages (from requests<3,>=2.21.0->tensorboard<2.3.0,>=2.2.0->tensorflow) (3.0.4)\n",
            "Requirement already satisfied: rsa<4.1,>=3.1.4 in /usr/local/lib/python3.6/dist-packages (from google-auth<2,>=1.6.3->tensorboard<2.3.0,>=2.2.0->tensorflow) (4.0)\n",
            "Requirement already satisfied: cachetools<3.2,>=2.0.0 in /usr/local/lib/python3.6/dist-packages (from google-auth<2,>=1.6.3->tensorboard<2.3.0,>=2.2.0->tensorflow) (3.1.1)\n",
            "Requirement already satisfied: pyasn1-modules>=0.2.1 in /usr/local/lib/python3.6/dist-packages (from google-auth<2,>=1.6.3->tensorboard<2.3.0,>=2.2.0->tensorflow) (0.2.8)\n",
            "Requirement already satisfied: oauthlib>=3.0.0 in /usr/local/lib/python3.6/dist-packages (from requests-oauthlib>=0.7.0->google-auth-oauthlib<0.5,>=0.4.1->tensorboard<2.3.0,>=2.2.0->tensorflow) (3.1.0)\n",
            "Requirement already satisfied: zipp>=0.5 in /usr/local/lib/python3.6/dist-packages (from importlib-metadata; python_version < \"3.8\"->markdown>=2.6.8->tensorboard<2.3.0,>=2.2.0->tensorflow) (3.1.0)\n",
            "Requirement already satisfied: pyasn1>=0.1.3 in /usr/local/lib/python3.6/dist-packages (from rsa<4.1,>=3.1.4->google-auth<2,>=1.6.3->tensorboard<2.3.0,>=2.2.0->tensorflow) (0.4.8)\n"
          ],
          "name": "stdout"
        }
      ]
    },
    {
      "cell_type": "code",
      "metadata": {
        "id": "W7wr1tc8qx76",
        "colab_type": "code",
        "colab": {
          "base_uri": "https://localhost:8080/",
          "height": 34
        },
        "outputId": "538a0146-ea7c-4a39-a0aa-20a21114e2ab"
      },
      "source": [
        "import tensorflow as tf\n",
        "print(tf.__version__)"
      ],
      "execution_count": 2,
      "outputs": [
        {
          "output_type": "stream",
          "text": [
            "2.2.0\n"
          ],
          "name": "stdout"
        }
      ]
    },
    {
      "cell_type": "code",
      "metadata": {
        "id": "q0dipuUHrNHu",
        "colab_type": "code",
        "colab": {
          "base_uri": "https://localhost:8080/",
          "height": 734
        },
        "outputId": "6f0604f2-9a11-4296-9a08-504aa0a5303f"
      },
      "source": [
        "!pip install tensorflow-gpu"
      ],
      "execution_count": 2,
      "outputs": [
        {
          "output_type": "stream",
          "text": [
            "Collecting tensorflow-gpu\n",
            "\u001b[?25l  Downloading https://files.pythonhosted.org/packages/31/bf/c28971266ca854a64f4b26f07c4112ddd61f30b4d1f18108b954a746f8ea/tensorflow_gpu-2.2.0-cp36-cp36m-manylinux2010_x86_64.whl (516.2MB)\n",
            "\u001b[K     |████████████████████████████████| 516.2MB 23kB/s \n",
            "\u001b[?25hRequirement already satisfied: google-pasta>=0.1.8 in /usr/local/lib/python3.6/dist-packages (from tensorflow-gpu) (0.2.0)\n",
            "Requirement already satisfied: numpy<2.0,>=1.16.0 in /usr/local/lib/python3.6/dist-packages (from tensorflow-gpu) (1.18.4)\n",
            "Requirement already satisfied: tensorflow-estimator<2.3.0,>=2.2.0 in /usr/local/lib/python3.6/dist-packages (from tensorflow-gpu) (2.2.0)\n",
            "Requirement already satisfied: grpcio>=1.8.6 in /usr/local/lib/python3.6/dist-packages (from tensorflow-gpu) (1.29.0)\n",
            "Requirement already satisfied: absl-py>=0.7.0 in /usr/local/lib/python3.6/dist-packages (from tensorflow-gpu) (0.9.0)\n",
            "Requirement already satisfied: h5py<2.11.0,>=2.10.0 in /usr/local/lib/python3.6/dist-packages (from tensorflow-gpu) (2.10.0)\n",
            "Requirement already satisfied: keras-preprocessing>=1.1.0 in /usr/local/lib/python3.6/dist-packages (from tensorflow-gpu) (1.1.2)\n",
            "Requirement already satisfied: wrapt>=1.11.1 in /usr/local/lib/python3.6/dist-packages (from tensorflow-gpu) (1.12.1)\n",
            "Requirement already satisfied: scipy==1.4.1; python_version >= \"3\" in /usr/local/lib/python3.6/dist-packages (from tensorflow-gpu) (1.4.1)\n",
            "Requirement already satisfied: astunparse==1.6.3 in /usr/local/lib/python3.6/dist-packages (from tensorflow-gpu) (1.6.3)\n",
            "Requirement already satisfied: tensorboard<2.3.0,>=2.2.0 in /usr/local/lib/python3.6/dist-packages (from tensorflow-gpu) (2.2.2)\n",
            "Requirement already satisfied: six>=1.12.0 in /usr/local/lib/python3.6/dist-packages (from tensorflow-gpu) (1.12.0)\n",
            "Requirement already satisfied: wheel>=0.26; python_version >= \"3\" in /usr/local/lib/python3.6/dist-packages (from tensorflow-gpu) (0.34.2)\n",
            "Requirement already satisfied: opt-einsum>=2.3.2 in /usr/local/lib/python3.6/dist-packages (from tensorflow-gpu) (3.2.1)\n",
            "Requirement already satisfied: gast==0.3.3 in /usr/local/lib/python3.6/dist-packages (from tensorflow-gpu) (0.3.3)\n",
            "Requirement already satisfied: termcolor>=1.1.0 in /usr/local/lib/python3.6/dist-packages (from tensorflow-gpu) (1.1.0)\n",
            "Requirement already satisfied: protobuf>=3.8.0 in /usr/local/lib/python3.6/dist-packages (from tensorflow-gpu) (3.10.0)\n",
            "Requirement already satisfied: requests<3,>=2.21.0 in /usr/local/lib/python3.6/dist-packages (from tensorboard<2.3.0,>=2.2.0->tensorflow-gpu) (2.23.0)\n",
            "Requirement already satisfied: tensorboard-plugin-wit>=1.6.0 in /usr/local/lib/python3.6/dist-packages (from tensorboard<2.3.0,>=2.2.0->tensorflow-gpu) (1.6.0.post3)\n",
            "Requirement already satisfied: google-auth-oauthlib<0.5,>=0.4.1 in /usr/local/lib/python3.6/dist-packages (from tensorboard<2.3.0,>=2.2.0->tensorflow-gpu) (0.4.1)\n",
            "Requirement already satisfied: werkzeug>=0.11.15 in /usr/local/lib/python3.6/dist-packages (from tensorboard<2.3.0,>=2.2.0->tensorflow-gpu) (1.0.1)\n",
            "Requirement already satisfied: google-auth<2,>=1.6.3 in /usr/local/lib/python3.6/dist-packages (from tensorboard<2.3.0,>=2.2.0->tensorflow-gpu) (1.7.2)\n",
            "Requirement already satisfied: setuptools>=41.0.0 in /usr/local/lib/python3.6/dist-packages (from tensorboard<2.3.0,>=2.2.0->tensorflow-gpu) (47.1.1)\n",
            "Requirement already satisfied: markdown>=2.6.8 in /usr/local/lib/python3.6/dist-packages (from tensorboard<2.3.0,>=2.2.0->tensorflow-gpu) (3.2.2)\n",
            "Requirement already satisfied: chardet<4,>=3.0.2 in /usr/local/lib/python3.6/dist-packages (from requests<3,>=2.21.0->tensorboard<2.3.0,>=2.2.0->tensorflow-gpu) (3.0.4)\n",
            "Requirement already satisfied: certifi>=2017.4.17 in /usr/local/lib/python3.6/dist-packages (from requests<3,>=2.21.0->tensorboard<2.3.0,>=2.2.0->tensorflow-gpu) (2020.4.5.1)\n",
            "Requirement already satisfied: urllib3!=1.25.0,!=1.25.1,<1.26,>=1.21.1 in /usr/local/lib/python3.6/dist-packages (from requests<3,>=2.21.0->tensorboard<2.3.0,>=2.2.0->tensorflow-gpu) (1.24.3)\n",
            "Requirement already satisfied: idna<3,>=2.5 in /usr/local/lib/python3.6/dist-packages (from requests<3,>=2.21.0->tensorboard<2.3.0,>=2.2.0->tensorflow-gpu) (2.9)\n",
            "Requirement already satisfied: requests-oauthlib>=0.7.0 in /usr/local/lib/python3.6/dist-packages (from google-auth-oauthlib<0.5,>=0.4.1->tensorboard<2.3.0,>=2.2.0->tensorflow-gpu) (1.3.0)\n",
            "Requirement already satisfied: cachetools<3.2,>=2.0.0 in /usr/local/lib/python3.6/dist-packages (from google-auth<2,>=1.6.3->tensorboard<2.3.0,>=2.2.0->tensorflow-gpu) (3.1.1)\n",
            "Requirement already satisfied: rsa<4.1,>=3.1.4 in /usr/local/lib/python3.6/dist-packages (from google-auth<2,>=1.6.3->tensorboard<2.3.0,>=2.2.0->tensorflow-gpu) (4.0)\n",
            "Requirement already satisfied: pyasn1-modules>=0.2.1 in /usr/local/lib/python3.6/dist-packages (from google-auth<2,>=1.6.3->tensorboard<2.3.0,>=2.2.0->tensorflow-gpu) (0.2.8)\n",
            "Requirement already satisfied: importlib-metadata; python_version < \"3.8\" in /usr/local/lib/python3.6/dist-packages (from markdown>=2.6.8->tensorboard<2.3.0,>=2.2.0->tensorflow-gpu) (1.6.0)\n",
            "Requirement already satisfied: oauthlib>=3.0.0 in /usr/local/lib/python3.6/dist-packages (from requests-oauthlib>=0.7.0->google-auth-oauthlib<0.5,>=0.4.1->tensorboard<2.3.0,>=2.2.0->tensorflow-gpu) (3.1.0)\n",
            "Requirement already satisfied: pyasn1>=0.1.3 in /usr/local/lib/python3.6/dist-packages (from rsa<4.1,>=3.1.4->google-auth<2,>=1.6.3->tensorboard<2.3.0,>=2.2.0->tensorflow-gpu) (0.4.8)\n",
            "Requirement already satisfied: zipp>=0.5 in /usr/local/lib/python3.6/dist-packages (from importlib-metadata; python_version < \"3.8\"->markdown>=2.6.8->tensorboard<2.3.0,>=2.2.0->tensorflow-gpu) (3.1.0)\n",
            "Installing collected packages: tensorflow-gpu\n",
            "Successfully installed tensorflow-gpu-2.2.0\n"
          ],
          "name": "stdout"
        }
      ]
    },
    {
      "cell_type": "code",
      "metadata": {
        "id": "H8yGb814tt80",
        "colab_type": "code",
        "colab": {}
      },
      "source": [
        "!wget -cq http://www.laurencemoroney.com/wp-content/uploads/2019/02/breast-cancer-colab.zip\n",
        "!unzip -qq breast-cancer-colab.zip"
      ],
      "execution_count": 0,
      "outputs": []
    },
    {
      "cell_type": "code",
      "metadata": {
        "id": "tZXospuvuJe0",
        "colab_type": "code",
        "colab": {}
      },
      "source": [
        "import pandas as pd\n",
        "from google.colab import files\n",
        "x_train = pd.read_csv(\"xtrain.csv\", header=None)\n",
        "y_train = pd.read_csv(\"ytrain.csv\", header=None)\n",
        "x_test = pd.read_csv(\"xtest.csv\", header=None)\n",
        "y_test = pd.read_csv(\"ytest.csv\", header=None)"
      ],
      "execution_count": 0,
      "outputs": []
    },
    {
      "cell_type": "code",
      "metadata": {
        "id": "5qgbra5R0PX6",
        "colab_type": "code",
        "colab": {
          "base_uri": "https://localhost:8080/",
          "height": 1000
        },
        "outputId": "17882724-68e2-484a-bb07-0afd83372de5"
      },
      "source": [
        "print(x_train.count())\n",
        "print(y_train.count())\n",
        "print(x_test.count())\n",
        "print(y_test.count())"
      ],
      "execution_count": 8,
      "outputs": [
        {
          "output_type": "stream",
          "text": [
            "0     455\n",
            "1     455\n",
            "2     455\n",
            "3     455\n",
            "4     455\n",
            "5     455\n",
            "6     455\n",
            "7     455\n",
            "8     455\n",
            "9     455\n",
            "10    455\n",
            "11    455\n",
            "12    455\n",
            "13    455\n",
            "14    455\n",
            "15    455\n",
            "16    455\n",
            "17    455\n",
            "18    455\n",
            "19    455\n",
            "20    455\n",
            "21    455\n",
            "22    455\n",
            "23    455\n",
            "24    455\n",
            "25    455\n",
            "26    455\n",
            "27    455\n",
            "28    455\n",
            "29    455\n",
            "dtype: int64\n",
            "0    455\n",
            "dtype: int64\n",
            "0     114\n",
            "1     114\n",
            "2     114\n",
            "3     114\n",
            "4     114\n",
            "5     114\n",
            "6     114\n",
            "7     114\n",
            "8     114\n",
            "9     114\n",
            "10    114\n",
            "11    114\n",
            "12    114\n",
            "13    114\n",
            "14    114\n",
            "15    114\n",
            "16    114\n",
            "17    114\n",
            "18    114\n",
            "19    114\n",
            "20    114\n",
            "21    114\n",
            "22    114\n",
            "23    114\n",
            "24    114\n",
            "25    114\n",
            "26    114\n",
            "27    114\n",
            "28    114\n",
            "29    114\n",
            "dtype: int64\n",
            "0    114\n",
            "dtype: int64\n"
          ],
          "name": "stdout"
        }
      ]
    },
    {
      "cell_type": "code",
      "metadata": {
        "id": "-DdBN2Iu0ynX",
        "colab_type": "code",
        "colab": {}
      },
      "source": [
        "from keras.models import Sequential\n",
        "from keras.layers import Dense\n",
        "\n",
        "# initiating the ANN\n",
        "classifier = Sequential() \n",
        "\n",
        "classifier.add(Dense(units = 16, activation = 'relu', input_dim = 30))\n",
        "classifier.add(Dense(units = 8, activation = 'relu'))\n",
        "classifier.add(Dense(units = 6, activation = 'relu'))\n",
        "classifier.add(Dense(units = 1, activation = 'sigmoid'))"
      ],
      "execution_count": 0,
      "outputs": []
    },
    {
      "cell_type": "code",
      "metadata": {
        "id": "qkw0Wq311ztj",
        "colab_type": "code",
        "colab": {}
      },
      "source": [
        "classifier.compile(optimizer='rmsprop', loss='binary_crossentropy')"
      ],
      "execution_count": 0,
      "outputs": []
    },
    {
      "cell_type": "code",
      "metadata": {
        "id": "ZcRfUSkR2GnP",
        "colab_type": "code",
        "colab": {
          "base_uri": "https://localhost:8080/",
          "height": 1000
        },
        "outputId": "4d6be73e-528f-4e96-fab1-347c29b44806"
      },
      "source": [
        "classifier.fit(x_train, y_train, batch_size=1, epochs = 100)"
      ],
      "execution_count": 11,
      "outputs": [
        {
          "output_type": "stream",
          "text": [
            "Epoch 1/100\n",
            "455/455 [==============================] - 3s 7ms/step - loss: 0.2923\n",
            "Epoch 2/100\n",
            "455/455 [==============================] - 2s 3ms/step - loss: 0.1174\n",
            "Epoch 3/100\n",
            "455/455 [==============================] - 2s 4ms/step - loss: 0.1122\n",
            "Epoch 4/100\n",
            "455/455 [==============================] - 2s 3ms/step - loss: 0.1007\n",
            "Epoch 5/100\n",
            "455/455 [==============================] - 2s 3ms/step - loss: 0.0967\n",
            "Epoch 6/100\n",
            "455/455 [==============================] - 2s 3ms/step - loss: 0.0932\n",
            "Epoch 7/100\n",
            "455/455 [==============================] - 2s 4ms/step - loss: 0.0930\n",
            "Epoch 8/100\n",
            "455/455 [==============================] - 2s 3ms/step - loss: 0.0924\n",
            "Epoch 9/100\n",
            "455/455 [==============================] - 2s 3ms/step - loss: 0.0837\n",
            "Epoch 10/100\n",
            "455/455 [==============================] - 2s 4ms/step - loss: 0.0902\n",
            "Epoch 11/100\n",
            "455/455 [==============================] - 2s 4ms/step - loss: 0.0802\n",
            "Epoch 12/100\n",
            "455/455 [==============================] - 2s 3ms/step - loss: 0.0785\n",
            "Epoch 13/100\n",
            "455/455 [==============================] - 2s 3ms/step - loss: 0.0725\n",
            "Epoch 14/100\n",
            "455/455 [==============================] - 2s 3ms/step - loss: 0.0702\n",
            "Epoch 15/100\n",
            "455/455 [==============================] - 2s 3ms/step - loss: 0.0775\n",
            "Epoch 16/100\n",
            "455/455 [==============================] - 2s 4ms/step - loss: 0.0804\n",
            "Epoch 17/100\n",
            "455/455 [==============================] - 2s 4ms/step - loss: 0.0785\n",
            "Epoch 18/100\n",
            "455/455 [==============================] - 2s 4ms/step - loss: 0.1035\n",
            "Epoch 19/100\n",
            "455/455 [==============================] - 2s 4ms/step - loss: 0.0834\n",
            "Epoch 20/100\n",
            "455/455 [==============================] - 2s 4ms/step - loss: 0.0908\n",
            "Epoch 21/100\n",
            "455/455 [==============================] - 2s 3ms/step - loss: 0.0782\n",
            "Epoch 22/100\n",
            "455/455 [==============================] - 2s 3ms/step - loss: 0.0757\n",
            "Epoch 23/100\n",
            "455/455 [==============================] - 2s 4ms/step - loss: 0.0711\n",
            "Epoch 24/100\n",
            "455/455 [==============================] - 2s 4ms/step - loss: 0.0791\n",
            "Epoch 25/100\n",
            "455/455 [==============================] - 2s 4ms/step - loss: 0.0805\n",
            "Epoch 26/100\n",
            "455/455 [==============================] - 2s 3ms/step - loss: 0.0761\n",
            "Epoch 27/100\n",
            "455/455 [==============================] - 2s 3ms/step - loss: 0.0651\n",
            "Epoch 28/100\n",
            "455/455 [==============================] - 2s 4ms/step - loss: 0.0633\n",
            "Epoch 29/100\n",
            "455/455 [==============================] - 2s 3ms/step - loss: 0.0723\n",
            "Epoch 30/100\n",
            "455/455 [==============================] - 2s 3ms/step - loss: 0.0950\n",
            "Epoch 31/100\n",
            "455/455 [==============================] - 2s 4ms/step - loss: 0.0725\n",
            "Epoch 32/100\n",
            "455/455 [==============================] - 2s 3ms/step - loss: 0.0933\n",
            "Epoch 33/100\n",
            "455/455 [==============================] - 2s 3ms/step - loss: 0.0746\n",
            "Epoch 34/100\n",
            "455/455 [==============================] - 2s 3ms/step - loss: 0.0927\n",
            "Epoch 35/100\n",
            "455/455 [==============================] - 2s 4ms/step - loss: 0.0680\n",
            "Epoch 36/100\n",
            "455/455 [==============================] - 2s 4ms/step - loss: 0.0680\n",
            "Epoch 37/100\n",
            "455/455 [==============================] - 2s 3ms/step - loss: 0.0716\n",
            "Epoch 38/100\n",
            "455/455 [==============================] - 2s 4ms/step - loss: 0.0675\n",
            "Epoch 39/100\n",
            "455/455 [==============================] - 2s 3ms/step - loss: 0.0652\n",
            "Epoch 40/100\n",
            "455/455 [==============================] - 2s 3ms/step - loss: 0.0684\n",
            "Epoch 41/100\n",
            "455/455 [==============================] - 2s 3ms/step - loss: 0.0599\n",
            "Epoch 42/100\n",
            "455/455 [==============================] - 2s 3ms/step - loss: 0.0639\n",
            "Epoch 43/100\n",
            "455/455 [==============================] - 2s 4ms/step - loss: 0.0546\n",
            "Epoch 44/100\n",
            "455/455 [==============================] - 2s 3ms/step - loss: 0.0607\n",
            "Epoch 45/100\n",
            "455/455 [==============================] - 2s 3ms/step - loss: 0.0654\n",
            "Epoch 46/100\n",
            "455/455 [==============================] - 2s 4ms/step - loss: 0.0733\n",
            "Epoch 47/100\n",
            "455/455 [==============================] - 2s 3ms/step - loss: 0.0669\n",
            "Epoch 48/100\n",
            "455/455 [==============================] - 2s 3ms/step - loss: 0.0713\n",
            "Epoch 49/100\n",
            "455/455 [==============================] - 2s 4ms/step - loss: 0.0661\n",
            "Epoch 50/100\n",
            "455/455 [==============================] - 2s 3ms/step - loss: 0.0578\n",
            "Epoch 51/100\n",
            "455/455 [==============================] - 2s 3ms/step - loss: 0.0605\n",
            "Epoch 52/100\n",
            "455/455 [==============================] - 2s 4ms/step - loss: 0.0714\n",
            "Epoch 53/100\n",
            "455/455 [==============================] - 2s 3ms/step - loss: 0.0638\n",
            "Epoch 54/100\n",
            "455/455 [==============================] - 2s 3ms/step - loss: 0.0600\n",
            "Epoch 55/100\n",
            "455/455 [==============================] - 2s 3ms/step - loss: 0.0641\n",
            "Epoch 56/100\n",
            "455/455 [==============================] - 2s 3ms/step - loss: 0.0785\n",
            "Epoch 57/100\n",
            "455/455 [==============================] - 2s 3ms/step - loss: 0.0824\n",
            "Epoch 58/100\n",
            "455/455 [==============================] - 2s 3ms/step - loss: 0.0726\n",
            "Epoch 59/100\n",
            "455/455 [==============================] - 2s 3ms/step - loss: 0.0716\n",
            "Epoch 60/100\n",
            "455/455 [==============================] - 2s 3ms/step - loss: 0.0750\n",
            "Epoch 61/100\n",
            "455/455 [==============================] - 2s 3ms/step - loss: 0.0721\n",
            "Epoch 62/100\n",
            "455/455 [==============================] - 2s 4ms/step - loss: 0.0650\n",
            "Epoch 63/100\n",
            "455/455 [==============================] - 2s 4ms/step - loss: 0.0660\n",
            "Epoch 64/100\n",
            "455/455 [==============================] - 2s 4ms/step - loss: 0.0639\n",
            "Epoch 65/100\n",
            "455/455 [==============================] - 2s 4ms/step - loss: 0.0698\n",
            "Epoch 66/100\n",
            "455/455 [==============================] - 2s 4ms/step - loss: 0.0650\n",
            "Epoch 67/100\n",
            "455/455 [==============================] - 2s 4ms/step - loss: 0.0637\n",
            "Epoch 68/100\n",
            "455/455 [==============================] - 2s 4ms/step - loss: 0.0575\n",
            "Epoch 69/100\n",
            "455/455 [==============================] - 2s 3ms/step - loss: 0.0555\n",
            "Epoch 70/100\n",
            "455/455 [==============================] - 2s 3ms/step - loss: 0.0638\n",
            "Epoch 71/100\n",
            "455/455 [==============================] - 2s 4ms/step - loss: 0.0533\n",
            "Epoch 72/100\n",
            "455/455 [==============================] - 2s 3ms/step - loss: 0.0594\n",
            "Epoch 73/100\n",
            "455/455 [==============================] - 2s 3ms/step - loss: 0.0601\n",
            "Epoch 74/100\n",
            "455/455 [==============================] - 2s 3ms/step - loss: 0.0565\n",
            "Epoch 75/100\n",
            "455/455 [==============================] - 2s 3ms/step - loss: 0.0701\n",
            "Epoch 76/100\n",
            "455/455 [==============================] - 2s 3ms/step - loss: 0.0643\n",
            "Epoch 77/100\n",
            "455/455 [==============================] - 2s 4ms/step - loss: 0.0664\n",
            "Epoch 78/100\n",
            "455/455 [==============================] - 2s 4ms/step - loss: 0.0713\n",
            "Epoch 79/100\n",
            "455/455 [==============================] - 2s 3ms/step - loss: 0.0649\n",
            "Epoch 80/100\n",
            "455/455 [==============================] - 2s 3ms/step - loss: 0.0822\n",
            "Epoch 81/100\n",
            "455/455 [==============================] - 2s 3ms/step - loss: 0.0659\n",
            "Epoch 82/100\n",
            "455/455 [==============================] - 2s 4ms/step - loss: 0.0741\n",
            "Epoch 83/100\n",
            "455/455 [==============================] - 2s 3ms/step - loss: 0.0613\n",
            "Epoch 84/100\n",
            "455/455 [==============================] - 2s 3ms/step - loss: 0.0647\n",
            "Epoch 85/100\n",
            "455/455 [==============================] - 2s 4ms/step - loss: 0.0607\n",
            "Epoch 86/100\n",
            "455/455 [==============================] - 2s 3ms/step - loss: 0.0563\n",
            "Epoch 87/100\n",
            "455/455 [==============================] - 2s 4ms/step - loss: 0.0526\n",
            "Epoch 88/100\n",
            "455/455 [==============================] - 2s 4ms/step - loss: 0.0487\n",
            "Epoch 89/100\n",
            "455/455 [==============================] - 2s 3ms/step - loss: 0.0493\n",
            "Epoch 90/100\n",
            "455/455 [==============================] - 2s 3ms/step - loss: 0.0460\n",
            "Epoch 91/100\n",
            "455/455 [==============================] - 2s 3ms/step - loss: 0.0453\n",
            "Epoch 92/100\n",
            "455/455 [==============================] - 2s 4ms/step - loss: 0.0387\n",
            "Epoch 93/100\n",
            "455/455 [==============================] - 2s 3ms/step - loss: 0.0473\n",
            "Epoch 94/100\n",
            "455/455 [==============================] - 2s 4ms/step - loss: 0.0489\n",
            "Epoch 95/100\n",
            "455/455 [==============================] - 2s 3ms/step - loss: 0.0385\n",
            "Epoch 96/100\n",
            "455/455 [==============================] - 2s 4ms/step - loss: 0.0463\n",
            "Epoch 97/100\n",
            "455/455 [==============================] - 1s 3ms/step - loss: 0.0439\n",
            "Epoch 98/100\n",
            "455/455 [==============================] - 2s 3ms/step - loss: 0.0440\n",
            "Epoch 99/100\n",
            "455/455 [==============================] - 2s 3ms/step - loss: 0.0464\n",
            "Epoch 100/100\n",
            "455/455 [==============================] - 2s 3ms/step - loss: 0.0461\n"
          ],
          "name": "stdout"
        },
        {
          "output_type": "execute_result",
          "data": {
            "text/plain": [
              "<keras.callbacks.callbacks.History at 0x7f8b94e80cf8>"
            ]
          },
          "metadata": {
            "tags": []
          },
          "execution_count": 11
        }
      ]
    },
    {
      "cell_type": "code",
      "metadata": {
        "id": "ZhYJ4ss03Uby",
        "colab_type": "code",
        "colab": {
          "base_uri": "https://localhost:8080/",
          "height": 54
        },
        "outputId": "98dbfb38-8cc7-433e-f0b4-d386b032b6a1"
      },
      "source": [
        "y_pred = classifier.predict(x_test)\n",
        "y_pred = [1 if y>=0.5 else 0 for y in y_pred]\n",
        "print(y_pred)"
      ],
      "execution_count": 12,
      "outputs": [
        {
          "output_type": "stream",
          "text": [
            "[1, 0, 0, 0, 0, 0, 0, 0, 0, 0, 1, 0, 0, 0, 0, 1, 0, 1, 1, 1, 1, 1, 0, 0, 1, 0, 0, 1, 0, 1, 0, 1, 0, 1, 0, 1, 0, 1, 0, 1, 1, 0, 1, 0, 0, 1, 0, 0, 0, 1, 1, 1, 1, 0, 0, 0, 0, 0, 0, 1, 1, 1, 0, 0, 1, 0, 1, 1, 1, 0, 0, 1, 0, 1, 1, 0, 0, 0, 0, 0, 1, 1, 1, 0, 1, 0, 0, 0, 1, 1, 0, 1, 0, 1, 0, 0, 1, 0, 0, 0, 0, 0, 0, 0, 1, 0, 1, 0, 0, 1, 0, 1, 1, 1]\n"
          ],
          "name": "stdout"
        }
      ]
    },
    {
      "cell_type": "code",
      "metadata": {
        "id": "ZRU8qS1D3slO",
        "colab_type": "code",
        "colab": {
          "base_uri": "https://localhost:8080/",
          "height": 68
        },
        "outputId": "6c851d01-a8eb-4491-dff1-96bd5c9d7b81"
      },
      "source": [
        "total = 0\n",
        "correct = 0\n",
        "wrong = 0\n",
        "for i in y_pred:\n",
        "  total = total+1\n",
        "  if y_test.at[i,0] == y_pred[i] :\n",
        "    correct = correct +1\n",
        "  else:\n",
        "      wrong = wrong +1\n",
        "print(f\"Total : {total} \\n Correct : {correct} \\n Wrong : {wrong}\")"
      ],
      "execution_count": 14,
      "outputs": [
        {
          "output_type": "stream",
          "text": [
            "Total : 114 \n",
            " Correct : 114 \n",
            " Wrong : 0\n"
          ],
          "name": "stdout"
        }
      ]
    }
  ]
}